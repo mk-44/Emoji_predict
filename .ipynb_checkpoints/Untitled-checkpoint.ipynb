{
 "cells": [
  {
   "cell_type": "code",
   "execution_count": 69,
   "metadata": {},
   "outputs": [],
   "source": [
    "import pandas as pd\n",
    "import numpy as np\n",
    "import matplotlib.pyplot as plt"
   ]
  },
  {
   "cell_type": "code",
   "execution_count": 70,
   "metadata": {},
   "outputs": [],
   "source": [
    "train = pd.read_csv(\"train_emoji.csv\", header = None)"
   ]
  },
  {
   "cell_type": "code",
   "execution_count": 71,
   "metadata": {},
   "outputs": [
    {
     "data": {
      "text/html": [
       "<div>\n",
       "<style scoped>\n",
       "    .dataframe tbody tr th:only-of-type {\n",
       "        vertical-align: middle;\n",
       "    }\n",
       "\n",
       "    .dataframe tbody tr th {\n",
       "        vertical-align: top;\n",
       "    }\n",
       "\n",
       "    .dataframe thead th {\n",
       "        text-align: right;\n",
       "    }\n",
       "</style>\n",
       "<table border=\"1\" class=\"dataframe\">\n",
       "  <thead>\n",
       "    <tr style=\"text-align: right;\">\n",
       "      <th></th>\n",
       "      <th>0</th>\n",
       "      <th>1</th>\n",
       "      <th>2</th>\n",
       "      <th>3</th>\n",
       "    </tr>\n",
       "  </thead>\n",
       "  <tbody>\n",
       "    <tr>\n",
       "      <th>0</th>\n",
       "      <td>never talk to me again</td>\n",
       "      <td>3</td>\n",
       "      <td>NaN</td>\n",
       "      <td>NaN</td>\n",
       "    </tr>\n",
       "    <tr>\n",
       "      <th>1</th>\n",
       "      <td>I am proud of your achievements</td>\n",
       "      <td>2</td>\n",
       "      <td>NaN</td>\n",
       "      <td>NaN</td>\n",
       "    </tr>\n",
       "    <tr>\n",
       "      <th>2</th>\n",
       "      <td>It is the worst day in my life</td>\n",
       "      <td>3</td>\n",
       "      <td>NaN</td>\n",
       "      <td>NaN</td>\n",
       "    </tr>\n",
       "    <tr>\n",
       "      <th>3</th>\n",
       "      <td>Miss you so much</td>\n",
       "      <td>0</td>\n",
       "      <td>NaN</td>\n",
       "      <td>[0]</td>\n",
       "    </tr>\n",
       "    <tr>\n",
       "      <th>4</th>\n",
       "      <td>food is life</td>\n",
       "      <td>4</td>\n",
       "      <td>NaN</td>\n",
       "      <td>NaN</td>\n",
       "    </tr>\n",
       "  </tbody>\n",
       "</table>\n",
       "</div>"
      ],
      "text/plain": [
       "                                 0  1   2     3\n",
       "0           never talk to me again  3 NaN   NaN\n",
       "1  I am proud of your achievements  2 NaN   NaN\n",
       "2   It is the worst day in my life  3 NaN   NaN\n",
       "3                 Miss you so much  0 NaN   [0]\n",
       "4                     food is life  4 NaN   NaN"
      ]
     },
     "execution_count": 71,
     "metadata": {},
     "output_type": "execute_result"
    }
   ],
   "source": [
    "train.head()"
   ]
  },
  {
   "cell_type": "code",
   "execution_count": 72,
   "metadata": {},
   "outputs": [],
   "source": [
    "test = pd.read_csv(\"test_emoji.csv\", header = None)"
   ]
  },
  {
   "cell_type": "code",
   "execution_count": 73,
   "metadata": {},
   "outputs": [
    {
     "data": {
      "text/html": [
       "<div>\n",
       "<style scoped>\n",
       "    .dataframe tbody tr th:only-of-type {\n",
       "        vertical-align: middle;\n",
       "    }\n",
       "\n",
       "    .dataframe tbody tr th {\n",
       "        vertical-align: top;\n",
       "    }\n",
       "\n",
       "    .dataframe thead th {\n",
       "        text-align: right;\n",
       "    }\n",
       "</style>\n",
       "<table border=\"1\" class=\"dataframe\">\n",
       "  <thead>\n",
       "    <tr style=\"text-align: right;\">\n",
       "      <th></th>\n",
       "      <th>0</th>\n",
       "      <th>1</th>\n",
       "    </tr>\n",
       "  </thead>\n",
       "  <tbody>\n",
       "    <tr>\n",
       "      <th>0</th>\n",
       "      <td>I want to eat\\t</td>\n",
       "      <td>4</td>\n",
       "    </tr>\n",
       "    <tr>\n",
       "      <th>1</th>\n",
       "      <td>he did not answer\\t</td>\n",
       "      <td>3</td>\n",
       "    </tr>\n",
       "    <tr>\n",
       "      <th>2</th>\n",
       "      <td>he got a very nice raise\\t</td>\n",
       "      <td>2</td>\n",
       "    </tr>\n",
       "    <tr>\n",
       "      <th>3</th>\n",
       "      <td>she got me a nice present\\t</td>\n",
       "      <td>2</td>\n",
       "    </tr>\n",
       "    <tr>\n",
       "      <th>4</th>\n",
       "      <td>ha ha ha it was so funny\\t</td>\n",
       "      <td>2</td>\n",
       "    </tr>\n",
       "  </tbody>\n",
       "</table>\n",
       "</div>"
      ],
      "text/plain": [
       "                             0  1\n",
       "0              I want to eat\\t  4\n",
       "1          he did not answer\\t  3\n",
       "2   he got a very nice raise\\t  2\n",
       "3  she got me a nice present\\t  2\n",
       "4   ha ha ha it was so funny\\t  2"
      ]
     },
     "execution_count": 73,
     "metadata": {},
     "output_type": "execute_result"
    }
   ],
   "source": [
    "test.head()"
   ]
  },
  {
   "cell_type": "code",
   "execution_count": 74,
   "metadata": {},
   "outputs": [
    {
     "name": "stdout",
     "output_type": "stream",
     "text": [
      "132\n",
      "56\n"
     ]
    }
   ],
   "source": [
    "print(len(train))\n",
    "print(len(test))"
   ]
  },
  {
   "cell_type": "code",
   "execution_count": 75,
   "metadata": {},
   "outputs": [],
   "source": [
    "import emoji"
   ]
  },
  {
   "cell_type": "code",
   "execution_count": 76,
   "metadata": {},
   "outputs": [],
   "source": [
    "emoji_dictionary = {\n",
    "    \"0\": \"\\u2764\\uFE0F\",\n",
    "    \"1\": \":baseball:\",\n",
    "    \"2\": \":grinning_face_with_big_eyes:\",\n",
    "    \"3\": \":disappointed_face:\",\n",
    "    \"4\": \":fork_and_knife:\",\n",
    "    \"5\": \":hundred_points:\",\n",
    "    \"6\": \":fire:\",\n",
    "    \"7\": \":face_blowing_a_kiss:\",\n",
    "    \"8\": \":chestnut:\",\n",
    "    \"9\": \":flexed_biceps:\"\n",
    "}"
   ]
  },
  {
   "cell_type": "code",
   "execution_count": 77,
   "metadata": {},
   "outputs": [
    {
     "name": "stdout",
     "output_type": "stream",
     "text": [
      "0 ❤️\n",
      "1 ⚾\n",
      "2 😃\n",
      "3 😞\n",
      "4 🍴\n",
      "5 💯\n",
      "6 🔥\n",
      "7 😘\n",
      "8 🌰\n",
      "9 💪\n"
     ]
    }
   ],
   "source": [
    "for idx, emoji_code in emoji_dictionary.items():\n",
    "    print(idx,emoji.emojize(emoji_code))"
   ]
  },
  {
   "cell_type": "code",
   "execution_count": 78,
   "metadata": {},
   "outputs": [],
   "source": [
    "X_train = train.iloc[:,0]\n",
    "X_train = np.array(X_train)"
   ]
  },
  {
   "cell_type": "code",
   "execution_count": 79,
   "metadata": {},
   "outputs": [],
   "source": [
    "Y_train = np.array(train.iloc[:,1])"
   ]
  },
  {
   "cell_type": "code",
   "execution_count": 80,
   "metadata": {},
   "outputs": [
    {
     "name": "stdout",
     "output_type": "stream",
     "text": [
      "never talk to me again 😞\n",
      "I am proud of your achievements 😃\n",
      "It is the worst day in my life 😞\n",
      "Miss you so much ❤️\n",
      "food is life 🍴\n"
     ]
    }
   ],
   "source": [
    "for i in range(5):\n",
    "    print(X_train[i],emoji.emojize(emoji_dictionary[str(Y_train[i])]))"
   ]
  },
  {
   "cell_type": "code",
   "execution_count": 81,
   "metadata": {},
   "outputs": [],
   "source": [
    "path = \"glove.6B.50d.txt\"\n",
    "f = open(path, encoding=\"utf-8\")"
   ]
  },
  {
   "cell_type": "code",
   "execution_count": 82,
   "metadata": {},
   "outputs": [],
   "source": [
    "matrix = {}\n",
    "\n",
    "for line in f:\n",
    "    sent = line.split()\n",
    "    word = sent[0]\n",
    "    coef = np.asarray(sent[1:], dtype = \"float\")\n",
    "    matrix[word] = coef"
   ]
  },
  {
   "cell_type": "code",
   "execution_count": 83,
   "metadata": {},
   "outputs": [],
   "source": [
    "f.close()"
   ]
  },
  {
   "cell_type": "code",
   "execution_count": 84,
   "metadata": {},
   "outputs": [
    {
     "data": {
      "text/plain": [
       "array([-0.38497 ,  0.80092 ,  0.064106, -0.28355 , -0.026759, -0.34532 ,\n",
       "       -0.64253 , -0.11729 , -0.33257 ,  0.55243 , -0.087813,  0.9035  ,\n",
       "        0.47102 ,  0.56657 ,  0.6985  , -0.35229 , -0.86542 ,  0.90573 ,\n",
       "        0.03576 , -0.071705, -0.12327 ,  0.54923 ,  0.47005 ,  0.35572 ,\n",
       "        1.2611  , -0.67581 , -0.94983 ,  0.68666 ,  0.3871  , -1.3492  ,\n",
       "        0.63512 ,  0.46416 , -0.48814 ,  0.83827 , -0.9246  , -0.33722 ,\n",
       "        0.53741 , -1.0616  , -0.081403, -0.67111 ,  0.30923 , -0.3923  ,\n",
       "       -0.55002 , -0.68827 ,  0.58049 , -0.11626 ,  0.013139, -0.57654 ,\n",
       "        0.048833,  0.67204 ])"
      ]
     },
     "execution_count": 84,
     "metadata": {},
     "output_type": "execute_result"
    }
   ],
   "source": [
    "matrix[\"hello\"]"
   ]
  },
  {
   "cell_type": "code",
   "execution_count": 85,
   "metadata": {},
   "outputs": [
    {
     "name": "stdout",
     "output_type": "stream",
     "text": [
      "10\n"
     ]
    }
   ],
   "source": [
    "max_len = 0\n",
    "for sent in X_train:\n",
    "    max_len = max(max_len, len(sent.split()))\n",
    "print(max_len)"
   ]
  },
  {
   "cell_type": "code",
   "execution_count": 86,
   "metadata": {},
   "outputs": [
    {
     "name": "stdout",
     "output_type": "stream",
     "text": [
      "260\n"
     ]
    }
   ],
   "source": [
    "vocab = set()\n",
    "for sen in X_train:\n",
    "    for word in sen.split():\n",
    "        vocab.add(word.lower())\n",
    "print(len(vocab))"
   ]
  },
  {
   "cell_type": "code",
   "execution_count": 87,
   "metadata": {},
   "outputs": [],
   "source": [
    "vocab_emb = {}\n",
    "for word in vocab:\n",
    "    vec = matrix.get(word.lower())\n",
    "    if vec is not None:\n",
    "        vocab_emb[word] = matrix[word.lower()]\n",
    "    else:\n",
    "        vocab_emb[word] = np.zeros((50,))"
   ]
  },
  {
   "cell_type": "code",
   "execution_count": 88,
   "metadata": {},
   "outputs": [
    {
     "name": "stdout",
     "output_type": "stream",
     "text": [
      "['date', 'plan', 'lot', 'but', 'of', 'smile', 'bad', 'moment', 'rules', 'hungry', 'cake', 'soon', 'afternoon', 'said', 'smiles', 'up', 'talented', 'working', 'good', 'lost', 'sister', 'announcement', 'project', 'sucks', 'homework', 'shouting', 'how', 'think', 'give', 'in', 'score', 'adore', 'one', 'killing', 'indian', 'join', 'dare', 'for', 'not', 'awful', 'eat', 'do', 'your', 'dogs', 'first', 'wallet', 'impressed', 'life', 'game', 'base', 'i', 'text', 'humiliated', 'ever', 'stupidity', 'few', 'poorly', 'chicago', 'missed', 'amazing', 'healthy', 'we', 'charming', 'looking', 'failed', 'intelligent', 'excited', 'have', 'never', 'frustrated', 'dear', 'dearest', 'had', 'celebrate', 'guy', 'an', 'haha', 'me', 'gave', 'much', 'great', 'ask', 'together', 'finished', 'congratulations', 'french', 'achievements', 'fun', 'best', 'puppies', 'us', 'approved', 'favorite', 'brunch', 'specialization', 'see', 'what', 'coming', 'stop', 'long', 'takes', 'such', 'miss', 'you', 'at', 'suck', 'laughing', 'forever', 'going', 'waiting', 'well', 'down', 'chinese', 'exam', 'are', 'adorable', 'yes', 'sushi', 'ordering', 'attractive', 'after', 'so', 'dinner', 'girl', 'hours', 'stadium', 'talk', 'restaurant', 'bravo', 'make', 'day', 'bullshit', 'grader', 'cutest', 'disappointed', 'traction', 'he', 'where', 'can', 'too', 'get', 'am', 'ready', 'tasty', 'friendly', 'midterm', 'come', 'though', 'proud', 'mean', 'her', 'macaroon', 'a', 'solve', 'man', 'were', 'saying', 'play', 'my', 'many', 'new', 'again', 'made', 'final', 'likes', 'plays', 'seen', 'people', 'it', 'when', 'could', 'kind', 'ball', 'lectures', 'anything', 'vegetables', 'has', 'joke', 'is', 'him', 'two', 'points', 'with', 'like', 'loser', 'funny', 'by', 'sounds', 'lol', 'the', 'end', 'cooked', 'who', 'happy', 'hug', 'home', 'limit', 'on', 'pizza', 'meat', 'this', 'player', 'they', 'person', 'run', 'very', 'food', 'performs', 'always', 'zero', 'answer', 'incredibly', 'baseball', 'love', 'alone', 'qualified', 'she', 'go', 'hate', 'job', 'baby', 'cannot', 'won', 'code', 'here', 'playing', 'sad', 'lets', 'cute', 'will', 'acceptance', 'worst', 'algorithm', 'exercise', 'assignment', 'cookies', 'to', 'was', 'cubs', 'dedication', 'some', 'that', 'mum', 'no', 'grade', 'cheese', 'wrong', 'position', 'congrats', 'and', 'want', 'ha', 'got', 'dad', 'candy', 'just', 'dog', 'did', 'catcher', 'handsome']\n"
     ]
    }
   ],
   "source": [
    "vocab = [word.lower() for word in vocab]\n",
    "print(vocab)"
   ]
  },
  {
   "cell_type": "code",
   "execution_count": 89,
   "metadata": {},
   "outputs": [],
   "source": [
    "vocab_emb = matrix"
   ]
  },
  {
   "cell_type": "code",
   "execution_count": 90,
   "metadata": {},
   "outputs": [],
   "source": [
    "def get_embedding_matrix(X, max_len = max_len):\n",
    "    cnt = 0\n",
    "    X_emb = np.zeros((X.shape[0], max_len, 50))\n",
    "    for ix, sen in enumerate(X):\n",
    "        sen_arr = sen.split()\n",
    "        for iy, word in enumerate(sen_arr):\n",
    "            vec = vocab_emb.get(word.lower())\n",
    "            if vec is not None:\n",
    "                X_emb[ix][iy] = vocab_emb[word.lower()]\n",
    "            else:\n",
    "                cnt += 1\n",
    "                X_emb[ix][iy] = np.zeros((50,))\n",
    "                \n",
    "    print(cnt)\n",
    "    return X_emb\n"
   ]
  },
  {
   "cell_type": "code",
   "execution_count": 91,
   "metadata": {},
   "outputs": [
    {
     "name": "stdout",
     "output_type": "stream",
     "text": [
      "0\n"
     ]
    }
   ],
   "source": [
    "X_train_emb = get_embedding_matrix(X_train)"
   ]
  },
  {
   "cell_type": "code",
   "execution_count": 92,
   "metadata": {},
   "outputs": [
    {
     "data": {
      "text/plain": [
       "0.0"
      ]
     },
     "execution_count": 92,
     "metadata": {},
     "output_type": "execute_result"
    }
   ],
   "source": [
    "X_train_emb[-1][-1][40]"
   ]
  },
  {
   "cell_type": "code",
   "execution_count": 93,
   "metadata": {},
   "outputs": [
    {
     "data": {
      "text/plain": [
       "66000"
      ]
     },
     "execution_count": 93,
     "metadata": {},
     "output_type": "execute_result"
    }
   ],
   "source": [
    "X_train_emb.shape[0]*X_train_emb.shape[1]*X_train_emb.shape[2]"
   ]
  },
  {
   "cell_type": "code",
   "execution_count": 94,
   "metadata": {},
   "outputs": [
    {
     "data": {
      "text/plain": [
       "(132, 10, 50)"
      ]
     },
     "execution_count": 94,
     "metadata": {},
     "output_type": "execute_result"
    }
   ],
   "source": [
    "X_train_emb.shape"
   ]
  },
  {
   "cell_type": "code",
   "execution_count": 95,
   "metadata": {},
   "outputs": [],
   "source": [
    "from keras.utils import to_categorical"
   ]
  },
  {
   "cell_type": "code",
   "execution_count": 96,
   "metadata": {},
   "outputs": [],
   "source": [
    "Y_train_new = to_categorical(Y_train)"
   ]
  },
  {
   "cell_type": "code",
   "execution_count": 97,
   "metadata": {},
   "outputs": [
    {
     "name": "stdout",
     "output_type": "stream",
     "text": [
      "(132, 5)\n"
     ]
    }
   ],
   "source": [
    "print(Y_train_new.shape)"
   ]
  },
  {
   "cell_type": "code",
   "execution_count": 98,
   "metadata": {},
   "outputs": [
    {
     "name": "stdout",
     "output_type": "stream",
     "text": [
      "                             0  1\n",
      "0              I want to eat\\t  4\n",
      "1          he did not answer\\t  3\n",
      "2   he got a very nice raise\\t  2\n",
      "3  she got me a nice present\\t  2\n",
      "4   ha ha ha it was so funny\\t  2\n"
     ]
    }
   ],
   "source": [
    "print(test.head())"
   ]
  },
  {
   "cell_type": "code",
   "execution_count": 99,
   "metadata": {},
   "outputs": [],
   "source": [
    "X_test = np.array(test.iloc[:,0])"
   ]
  },
  {
   "cell_type": "code",
   "execution_count": 100,
   "metadata": {},
   "outputs": [],
   "source": [
    "for idx, sen in enumerate(X_test):\n",
    "    if sen[-1] == '\\t':\n",
    "        X_test[idx] = sen[:-1]"
   ]
  },
  {
   "cell_type": "code",
   "execution_count": 101,
   "metadata": {},
   "outputs": [
    {
     "name": "stdout",
     "output_type": "stream",
     "text": [
      "(56,)\n"
     ]
    }
   ],
   "source": [
    "print(X_test.shape)"
   ]
  },
  {
   "cell_type": "code",
   "execution_count": 102,
   "metadata": {},
   "outputs": [],
   "source": [
    "from keras.layers import *\n",
    "from keras.models import Sequential\n",
    "from keras.utils import np_utils"
   ]
  },
  {
   "cell_type": "code",
   "execution_count": 103,
   "metadata": {},
   "outputs": [
    {
     "name": "stdout",
     "output_type": "stream",
     "text": [
      "_________________________________________________________________\n",
      "Layer (type)                 Output Shape              Param #   \n",
      "=================================================================\n",
      "lstm_5 (LSTM)                (None, 10, 64)            29440     \n",
      "_________________________________________________________________\n",
      "dropout_5 (Dropout)          (None, 10, 64)            0         \n",
      "_________________________________________________________________\n",
      "lstm_6 (LSTM)                (None, 64)                33024     \n",
      "_________________________________________________________________\n",
      "dropout_6 (Dropout)          (None, 64)                0         \n",
      "_________________________________________________________________\n",
      "dense_5 (Dense)              (None, 64)                4160      \n",
      "_________________________________________________________________\n",
      "activation_5 (Activation)    (None, 64)                0         \n",
      "_________________________________________________________________\n",
      "dense_6 (Dense)              (None, 5)                 325       \n",
      "_________________________________________________________________\n",
      "activation_6 (Activation)    (None, 5)                 0         \n",
      "=================================================================\n",
      "Total params: 66,949\n",
      "Trainable params: 66,949\n",
      "Non-trainable params: 0\n",
      "_________________________________________________________________\n"
     ]
    }
   ],
   "source": [
    "model = Sequential()\n",
    "model.add(LSTM(64, input_shape = (max_len, 50), return_sequences=True))\n",
    "model.add(Dropout(0.2))\n",
    "model.add(LSTM(64, input_shape = (max_len, 50), return_sequences=False))\n",
    "model.add(Dropout(0.2))\n",
    "model.add(Dense(64))\n",
    "model.add(Activation(\"relu\"))\n",
    "model.add(Dense(5))\n",
    "model.add(Activation(\"softmax\"))\n",
    "model.compile(loss = \"categorical_crossentropy\", optimizer = \"adam\", metrics = [\"accuracy\"])\n",
    "model.summary()"
   ]
  },
  {
   "cell_type": "code",
   "execution_count": 104,
   "metadata": {},
   "outputs": [
    {
     "name": "stdout",
     "output_type": "stream",
     "text": [
      "(132, 10, 50)\n",
      "(132, 5)\n"
     ]
    }
   ],
   "source": [
    "print(X_train_emb.shape)\n",
    "print(Y_train_new.shape)\n",
    "from keras.callbacks import EarlyStopping, ModelCheckpoint \n",
    "early_stop = EarlyStopping(monitor = \"val_acc\" , patience = 20)\n",
    "checkpt = ModelCheckpoint(\"best_model.h5\", monitor = \"val_acc\" , mode =  \"max\" , save_best_only = True, verbose = 1)"
   ]
  },
  {
   "cell_type": "code",
   "execution_count": 105,
   "metadata": {},
   "outputs": [
    {
     "name": "stdout",
     "output_type": "stream",
     "text": [
      "Train on 105 samples, validate on 27 samples\n",
      "Epoch 1/100\n",
      "105/105 [==============================] - 2s 20ms/step - loss: 1.5904 - acc: 0.2381 - val_loss: 1.6144 - val_acc: 0.2222\n",
      "\n",
      "Epoch 00001: val_acc improved from -inf to 0.22222, saving model to best_model.h5\n",
      "Epoch 2/100\n",
      "105/105 [==============================] - 0s 323us/step - loss: 1.5660 - acc: 0.3429 - val_loss: 1.6224 - val_acc: 0.2593\n",
      "\n",
      "Epoch 00002: val_acc improved from 0.22222 to 0.25926, saving model to best_model.h5\n",
      "Epoch 3/100\n",
      "105/105 [==============================] - 0s 323us/step - loss: 1.5359 - acc: 0.3429 - val_loss: 1.6342 - val_acc: 0.2963\n",
      "\n",
      "Epoch 00003: val_acc improved from 0.25926 to 0.29630, saving model to best_model.h5\n",
      "Epoch 4/100\n",
      "105/105 [==============================] - 0s 361us/step - loss: 1.5091 - acc: 0.3238 - val_loss: 1.6587 - val_acc: 0.1852\n",
      "\n",
      "Epoch 00004: val_acc did not improve from 0.29630\n",
      "Epoch 5/100\n",
      "105/105 [==============================] - 0s 404us/step - loss: 1.4777 - acc: 0.3714 - val_loss: 1.6952 - val_acc: 0.2222\n",
      "\n",
      "Epoch 00005: val_acc did not improve from 0.29630\n",
      "Epoch 6/100\n",
      "105/105 [==============================] - 0s 408us/step - loss: 1.4672 - acc: 0.3905 - val_loss: 1.7124 - val_acc: 0.2222\n",
      "\n",
      "Epoch 00006: val_acc did not improve from 0.29630\n",
      "Epoch 7/100\n",
      "105/105 [==============================] - 0s 394us/step - loss: 1.4424 - acc: 0.3619 - val_loss: 1.7049 - val_acc: 0.2222\n",
      "\n",
      "Epoch 00007: val_acc did not improve from 0.29630\n",
      "Epoch 8/100\n",
      "105/105 [==============================] - 0s 389us/step - loss: 1.4140 - acc: 0.4095 - val_loss: 1.6483 - val_acc: 0.2593\n",
      "\n",
      "Epoch 00008: val_acc did not improve from 0.29630\n",
      "Epoch 9/100\n",
      "105/105 [==============================] - 0s 418us/step - loss: 1.3808 - acc: 0.3810 - val_loss: 1.5758 - val_acc: 0.2593\n",
      "\n",
      "Epoch 00009: val_acc did not improve from 0.29630\n",
      "Epoch 10/100\n",
      "105/105 [==============================] - 0s 389us/step - loss: 1.3382 - acc: 0.4667 - val_loss: 1.4960 - val_acc: 0.2593\n",
      "\n",
      "Epoch 00010: val_acc did not improve from 0.29630\n",
      "Epoch 11/100\n",
      "105/105 [==============================] - ETA: 0s - loss: 1.3489 - acc: 0.437 - 0s 370us/step - loss: 1.3044 - acc: 0.4571 - val_loss: 1.4300 - val_acc: 0.2593\n",
      "\n",
      "Epoch 00011: val_acc did not improve from 0.29630\n",
      "Epoch 12/100\n",
      "105/105 [==============================] - 0s 418us/step - loss: 1.2706 - acc: 0.5238 - val_loss: 1.4030 - val_acc: 0.2963\n",
      "\n",
      "Epoch 00012: val_acc did not improve from 0.29630\n",
      "Epoch 13/100\n",
      "105/105 [==============================] - 0s 427us/step - loss: 1.2305 - acc: 0.4857 - val_loss: 1.3750 - val_acc: 0.2963\n",
      "\n",
      "Epoch 00013: val_acc did not improve from 0.29630\n",
      "Epoch 14/100\n",
      "105/105 [==============================] - 0s 437us/step - loss: 1.1658 - acc: 0.4952 - val_loss: 1.3523 - val_acc: 0.2963\n",
      "\n",
      "Epoch 00014: val_acc did not improve from 0.29630\n",
      "Epoch 15/100\n",
      "105/105 [==============================] - 0s 418us/step - loss: 1.1100 - acc: 0.5238 - val_loss: 1.2980 - val_acc: 0.2963\n",
      "\n",
      "Epoch 00015: val_acc did not improve from 0.29630\n",
      "Epoch 16/100\n",
      "105/105 [==============================] - 0s 415us/step - loss: 1.0685 - acc: 0.5524 - val_loss: 1.2366 - val_acc: 0.4074\n",
      "\n",
      "Epoch 00016: val_acc improved from 0.29630 to 0.40741, saving model to best_model.h5\n",
      "Epoch 17/100\n",
      "105/105 [==============================] - 0s 351us/step - loss: 0.9845 - acc: 0.6000 - val_loss: 1.1793 - val_acc: 0.4074\n",
      "\n",
      "Epoch 00017: val_acc did not improve from 0.40741\n",
      "Epoch 18/100\n",
      "105/105 [==============================] - 0s 408us/step - loss: 0.9241 - acc: 0.6571 - val_loss: 1.1383 - val_acc: 0.4815\n",
      "\n",
      "Epoch 00018: val_acc improved from 0.40741 to 0.48148, saving model to best_model.h5\n",
      "Epoch 19/100\n",
      "105/105 [==============================] - 0s 703us/step - loss: 0.8815 - acc: 0.7048 - val_loss: 1.1501 - val_acc: 0.5926\n",
      "\n",
      "Epoch 00019: val_acc improved from 0.48148 to 0.59259, saving model to best_model.h5\n",
      "Epoch 20/100\n",
      "105/105 [==============================] - 0s 304us/step - loss: 0.8256 - acc: 0.7143 - val_loss: 1.1209 - val_acc: 0.5926\n",
      "\n",
      "Epoch 00020: val_acc did not improve from 0.59259\n",
      "Epoch 21/100\n",
      "105/105 [==============================] - 0s 351us/step - loss: 0.7842 - acc: 0.7238 - val_loss: 1.0080 - val_acc: 0.6296\n",
      "\n",
      "Epoch 00021: val_acc improved from 0.59259 to 0.62963, saving model to best_model.h5\n",
      "Epoch 22/100\n",
      "105/105 [==============================] - 0s 351us/step - loss: 0.7672 - acc: 0.7524 - val_loss: 1.0194 - val_acc: 0.5926\n",
      "\n",
      "Epoch 00022: val_acc did not improve from 0.62963\n",
      "Epoch 23/100\n",
      "105/105 [==============================] - 0s 398us/step - loss: 0.6431 - acc: 0.8000 - val_loss: 1.1983 - val_acc: 0.5556\n",
      "\n",
      "Epoch 00023: val_acc did not improve from 0.62963\n",
      "Epoch 24/100\n",
      "105/105 [==============================] - 0s 418us/step - loss: 0.6078 - acc: 0.8286 - val_loss: 0.9108 - val_acc: 0.6667\n",
      "\n",
      "Epoch 00024: val_acc improved from 0.62963 to 0.66667, saving model to best_model.h5\n",
      "Epoch 25/100\n",
      "105/105 [==============================] - 0s 361us/step - loss: 0.5417 - acc: 0.8286 - val_loss: 0.8208 - val_acc: 0.7407\n",
      "\n",
      "Epoch 00025: val_acc improved from 0.66667 to 0.74074, saving model to best_model.h5\n",
      "Epoch 26/100\n",
      "105/105 [==============================] - 0s 342us/step - loss: 0.4825 - acc: 0.8476 - val_loss: 0.9786 - val_acc: 0.5926\n",
      "\n",
      "Epoch 00026: val_acc did not improve from 0.74074\n",
      "Epoch 27/100\n",
      "105/105 [==============================] - 0s 427us/step - loss: 0.5014 - acc: 0.8190 - val_loss: 0.8532 - val_acc: 0.6296\n",
      "\n",
      "Epoch 00027: val_acc did not improve from 0.74074\n",
      "Epoch 28/100\n",
      "105/105 [==============================] - 0s 385us/step - loss: 0.5736 - acc: 0.7619 - val_loss: 0.7302 - val_acc: 0.7778\n",
      "\n",
      "Epoch 00028: val_acc improved from 0.74074 to 0.77778, saving model to best_model.h5\n",
      "Epoch 29/100\n",
      "105/105 [==============================] - 0s 323us/step - loss: 0.4348 - acc: 0.8381 - val_loss: 0.8788 - val_acc: 0.7407\n",
      "\n",
      "Epoch 00029: val_acc did not improve from 0.77778\n",
      "Epoch 30/100\n",
      "105/105 [==============================] - 0s 361us/step - loss: 0.4194 - acc: 0.8571 - val_loss: 0.9154 - val_acc: 0.7407\n",
      "\n",
      "Epoch 00030: val_acc did not improve from 0.77778\n",
      "Epoch 31/100\n",
      "105/105 [==============================] - 0s 332us/step - loss: 0.3473 - acc: 0.8857 - val_loss: 0.6933 - val_acc: 0.7778\n",
      "\n",
      "Epoch 00031: val_acc did not improve from 0.77778\n",
      "Epoch 32/100\n",
      "105/105 [==============================] - 0s 328us/step - loss: 0.3185 - acc: 0.8857 - val_loss: 0.6974 - val_acc: 0.7407\n",
      "\n",
      "Epoch 00032: val_acc did not improve from 0.77778\n",
      "Epoch 33/100\n",
      "105/105 [==============================] - 0s 323us/step - loss: 0.3025 - acc: 0.8952 - val_loss: 0.7674 - val_acc: 0.7407\n",
      "\n",
      "Epoch 00033: val_acc did not improve from 0.77778\n",
      "Epoch 34/100\n",
      "105/105 [==============================] - 0s 351us/step - loss: 0.3135 - acc: 0.9143 - val_loss: 0.6287 - val_acc: 0.7778\n",
      "\n",
      "Epoch 00034: val_acc did not improve from 0.77778\n",
      "Epoch 35/100\n",
      "105/105 [==============================] - 0s 332us/step - loss: 0.2693 - acc: 0.9238 - val_loss: 0.9114 - val_acc: 0.7407\n",
      "\n",
      "Epoch 00035: val_acc did not improve from 0.77778\n",
      "Epoch 36/100\n",
      "105/105 [==============================] - 0s 361us/step - loss: 0.3442 - acc: 0.8857 - val_loss: 0.7646 - val_acc: 0.7037\n",
      "\n",
      "Epoch 00036: val_acc did not improve from 0.77778\n",
      "Epoch 37/100\n",
      "105/105 [==============================] - 0s 323us/step - loss: 0.2006 - acc: 0.9429 - val_loss: 0.9548 - val_acc: 0.6667\n",
      "\n",
      "Epoch 00037: val_acc did not improve from 0.77778\n",
      "Epoch 38/100\n",
      "105/105 [==============================] - 0s 332us/step - loss: 0.2240 - acc: 0.9333 - val_loss: 0.9399 - val_acc: 0.6667\n",
      "\n",
      "Epoch 00038: val_acc did not improve from 0.77778\n",
      "Epoch 39/100\n",
      "105/105 [==============================] - 0s 370us/step - loss: 0.1689 - acc: 0.9238 - val_loss: 0.9421 - val_acc: 0.7037\n",
      "\n",
      "Epoch 00039: val_acc did not improve from 0.77778\n",
      "Epoch 40/100\n",
      "105/105 [==============================] - 0s 361us/step - loss: 0.1946 - acc: 0.9238 - val_loss: 0.8821 - val_acc: 0.7037\n",
      "\n",
      "Epoch 00040: val_acc did not improve from 0.77778\n",
      "Epoch 41/100\n",
      "105/105 [==============================] - 0s 351us/step - loss: 0.1359 - acc: 0.9524 - val_loss: 1.0235 - val_acc: 0.6296\n",
      "\n",
      "Epoch 00041: val_acc did not improve from 0.77778\n",
      "Epoch 42/100\n",
      "105/105 [==============================] - 0s 342us/step - loss: 0.1853 - acc: 0.9333 - val_loss: 0.9530 - val_acc: 0.6667\n"
     ]
    },
    {
     "name": "stdout",
     "output_type": "stream",
     "text": [
      "\n",
      "Epoch 00042: val_acc did not improve from 0.77778\n",
      "Epoch 43/100\n",
      "105/105 [==============================] - 0s 323us/step - loss: 0.0905 - acc: 1.0000 - val_loss: 0.7685 - val_acc: 0.7778\n",
      "\n",
      "Epoch 00043: val_acc did not improve from 0.77778\n",
      "Epoch 44/100\n",
      "105/105 [==============================] - 0s 313us/step - loss: 0.1076 - acc: 0.9619 - val_loss: 0.7522 - val_acc: 0.8519\n",
      "\n",
      "Epoch 00044: val_acc improved from 0.77778 to 0.85185, saving model to best_model.h5\n",
      "Epoch 45/100\n",
      "105/105 [==============================] - 0s 425us/step - loss: 0.0781 - acc: 0.9810 - val_loss: 0.8478 - val_acc: 0.7037\n",
      "\n",
      "Epoch 00045: val_acc did not improve from 0.85185\n",
      "Epoch 46/100\n",
      "105/105 [==============================] - 0s 313us/step - loss: 0.0808 - acc: 0.9810 - val_loss: 0.8382 - val_acc: 0.7778\n",
      "\n",
      "Epoch 00046: val_acc did not improve from 0.85185\n",
      "Epoch 47/100\n",
      "105/105 [==============================] - 0s 370us/step - loss: 0.0644 - acc: 0.9810 - val_loss: 0.7127 - val_acc: 0.7778\n",
      "\n",
      "Epoch 00047: val_acc did not improve from 0.85185\n",
      "Epoch 48/100\n",
      "105/105 [==============================] - 0s 361us/step - loss: 0.0557 - acc: 0.9905 - val_loss: 0.7203 - val_acc: 0.7407\n",
      "\n",
      "Epoch 00048: val_acc did not improve from 0.85185\n",
      "Epoch 49/100\n",
      "105/105 [==============================] - 0s 342us/step - loss: 0.0431 - acc: 1.0000 - val_loss: 0.7518 - val_acc: 0.7407\n",
      "\n",
      "Epoch 00049: val_acc did not improve from 0.85185\n",
      "Epoch 50/100\n",
      "105/105 [==============================] - 0s 361us/step - loss: 0.0466 - acc: 1.0000 - val_loss: 0.8547 - val_acc: 0.7037\n",
      "\n",
      "Epoch 00050: val_acc did not improve from 0.85185\n",
      "Epoch 51/100\n",
      "105/105 [==============================] - 0s 342us/step - loss: 0.0499 - acc: 0.9810 - val_loss: 0.9424 - val_acc: 0.7037\n",
      "\n",
      "Epoch 00051: val_acc did not improve from 0.85185\n",
      "Epoch 52/100\n",
      "105/105 [==============================] - 0s 323us/step - loss: 0.0520 - acc: 0.9905 - val_loss: 0.7631 - val_acc: 0.6667\n",
      "\n",
      "Epoch 00052: val_acc did not improve from 0.85185\n",
      "Epoch 53/100\n",
      "105/105 [==============================] - 0s 351us/step - loss: 0.0315 - acc: 1.0000 - val_loss: 0.7419 - val_acc: 0.7778\n",
      "\n",
      "Epoch 00053: val_acc did not improve from 0.85185\n",
      "Epoch 54/100\n",
      "105/105 [==============================] - 0s 323us/step - loss: 0.0427 - acc: 0.9905 - val_loss: 0.7014 - val_acc: 0.7778\n",
      "\n",
      "Epoch 00054: val_acc did not improve from 0.85185\n",
      "Epoch 55/100\n",
      "105/105 [==============================] - 0s 342us/step - loss: 0.0379 - acc: 0.9905 - val_loss: 0.9007 - val_acc: 0.7037\n",
      "\n",
      "Epoch 00055: val_acc did not improve from 0.85185\n",
      "Epoch 56/100\n",
      "105/105 [==============================] - 0s 361us/step - loss: 0.0344 - acc: 0.9905 - val_loss: 0.7873 - val_acc: 0.6667\n",
      "\n",
      "Epoch 00056: val_acc did not improve from 0.85185\n",
      "Epoch 57/100\n",
      "105/105 [==============================] - 0s 342us/step - loss: 0.0213 - acc: 1.0000 - val_loss: 0.9627 - val_acc: 0.7778\n",
      "\n",
      "Epoch 00057: val_acc did not improve from 0.85185\n",
      "Epoch 58/100\n",
      "105/105 [==============================] - 0s 332us/step - loss: 0.0238 - acc: 0.9905 - val_loss: 0.9032 - val_acc: 0.8148\n",
      "\n",
      "Epoch 00058: val_acc did not improve from 0.85185\n",
      "Epoch 59/100\n",
      "105/105 [==============================] - 0s 342us/step - loss: 0.0156 - acc: 1.0000 - val_loss: 0.8919 - val_acc: 0.7778\n",
      "\n",
      "Epoch 00059: val_acc did not improve from 0.85185\n",
      "Epoch 60/100\n",
      "105/105 [==============================] - 0s 323us/step - loss: 0.0150 - acc: 1.0000 - val_loss: 0.8822 - val_acc: 0.7037\n",
      "\n",
      "Epoch 00060: val_acc did not improve from 0.85185\n",
      "Epoch 61/100\n",
      "105/105 [==============================] - 0s 342us/step - loss: 0.0169 - acc: 1.0000 - val_loss: 0.9570 - val_acc: 0.6667\n",
      "\n",
      "Epoch 00061: val_acc did not improve from 0.85185\n",
      "Epoch 62/100\n",
      "105/105 [==============================] - 0s 323us/step - loss: 0.0196 - acc: 1.0000 - val_loss: 0.8333 - val_acc: 0.7407\n",
      "\n",
      "Epoch 00062: val_acc did not improve from 0.85185\n",
      "Epoch 63/100\n",
      "105/105 [==============================] - 0s 342us/step - loss: 0.0105 - acc: 1.0000 - val_loss: 0.8758 - val_acc: 0.8148\n",
      "\n",
      "Epoch 00063: val_acc did not improve from 0.85185\n",
      "Epoch 64/100\n",
      "105/105 [==============================] - 0s 332us/step - loss: 0.0093 - acc: 1.0000 - val_loss: 0.9107 - val_acc: 0.7778\n",
      "\n",
      "Epoch 00064: val_acc did not improve from 0.85185\n"
     ]
    }
   ],
   "source": [
    "hist = model.fit(X_train_emb, Y_train_new , epochs = 100 , batch_size = 64, shuffle = True, validation_split = 0.2 , callbacks = [early_stop , checkpt])"
   ]
  },
  {
   "cell_type": "code",
   "execution_count": 106,
   "metadata": {},
   "outputs": [
    {
     "name": "stdout",
     "output_type": "stream",
     "text": [
      "0\n"
     ]
    }
   ],
   "source": [
    "X_test_emb = get_embedding_matrix(X_test)"
   ]
  },
  {
   "cell_type": "code",
   "execution_count": 107,
   "metadata": {},
   "outputs": [],
   "source": [
    "Y_pred = model.predict_classes(X_test_emb)"
   ]
  },
  {
   "cell_type": "code",
   "execution_count": 108,
   "metadata": {},
   "outputs": [
    {
     "name": "stdout",
     "output_type": "stream",
     "text": [
      "[4 3 0 0 2 2 1 2 4 2 1 2 0 3 1 3 3 2 3 4 0 2 4 0 3 1 3 0 1 2 0 1 3 2 0 1 0\n",
      " 4 0 2 1 0 0 0 2 0 2 2 0 1 1 0 3 2 2 0]\n"
     ]
    }
   ],
   "source": [
    "print(Y_pred)"
   ]
  },
  {
   "cell_type": "code",
   "execution_count": 109,
   "metadata": {},
   "outputs": [],
   "source": [
    "Y_test = np.array(test.iloc[:,1])"
   ]
  },
  {
   "cell_type": "code",
   "execution_count": 110,
   "metadata": {},
   "outputs": [
    {
     "data": {
      "text/plain": [
       "dict_keys(['val_loss', 'val_acc', 'loss', 'acc'])"
      ]
     },
     "execution_count": 110,
     "metadata": {},
     "output_type": "execute_result"
    }
   ],
   "source": [
    "hist.history.keys()"
   ]
  },
  {
   "cell_type": "code",
   "execution_count": 111,
   "metadata": {},
   "outputs": [
    {
     "name": "stdout",
     "output_type": "stream",
     "text": [
      "16\n"
     ]
    }
   ],
   "source": [
    "cnt = 0\n",
    "for ix, val in enumerate(Y_pred):\n",
    "    if val != Y_test[ix]:\n",
    "        cnt += 1\n",
    "print(cnt) "
   ]
  },
  {
   "cell_type": "code",
   "execution_count": 112,
   "metadata": {},
   "outputs": [],
   "source": [
    "from keras.models import load_model\n",
    "saved_model = load_model('best_model.h5')"
   ]
  },
  {
   "cell_type": "code",
   "execution_count": 113,
   "metadata": {},
   "outputs": [],
   "source": [
    "val_loss = hist.history[\"val_loss\"]\n",
    "train_loss = hist.history[\"loss\"]\n",
    "val_acc = hist.history[\"val_acc\"]\n",
    "train_acc = hist.history[\"acc\"]"
   ]
  },
  {
   "cell_type": "code",
   "execution_count": 114,
   "metadata": {},
   "outputs": [
    {
     "data": {
      "image/png": "[encoded data removed]",
      "text/plain": [
       "<Figure size 432x288 with 1 Axes>"
      ]
     },
     "metadata": {
      "needs_background": "light"
     },
     "output_type": "display_data"
    }
   ],
   "source": [
    "plt.plot(train_acc, label = \"train_acc\")\n",
    "plt.plot(val_acc, label = \"val_acc\")\n",
    "plt.legend()\n",
    "plt.show()"
   ]
  },
  {
   "cell_type": "code",
   "execution_count": 115,
   "metadata": {},
   "outputs": [
    {
     "data": {
      "image/png": "[encoded data removed]",
      "text/plain": [
       "<Figure size 432x288 with 1 Axes>"
      ]
     },
     "metadata": {
      "needs_background": "light"
     },
     "output_type": "display_data"
    }
   ],
   "source": [
    "plt.plot(train_loss, label = \"train_loss\")\n",
    "plt.plot(val_loss, label = \"val_loss\")\n",
    "plt.legend()\n",
    "plt.show()"
   ]
  },
  {
   "cell_type": "code",
   "execution_count": 116,
   "metadata": {},
   "outputs": [
    {
     "name": "stdout",
     "output_type": "stream",
     "text": [
      "56/56 [==============================] - 1s 9ms/step\n"
     ]
    },
    {
     "data": {
      "text/plain": [
       "[0.7500285421098981, 0.7499999914850507]"
      ]
     },
     "execution_count": 116,
     "metadata": {},
     "output_type": "execute_result"
    }
   ],
   "source": [
    "saved_model.evaluate(X_test_emb, to_categorical(Y_test))"
   ]
  },
  {
   "cell_type": "code",
   "execution_count": 117,
   "metadata": {},
   "outputs": [],
   "source": [
    "Y_pred = saved_model.predict_classes(X_test_emb)"
   ]
  },
  {
   "cell_type": "code",
   "execution_count": 118,
   "metadata": {},
   "outputs": [
    {
     "name": "stdout",
     "output_type": "stream",
     "text": [
      "I want to eat\n",
      "Test:  🍴\n",
      "Pred:  🍴\n",
      "he did not answer\n",
      "Test:  😞\n",
      "Pred:  😞\n",
      "he got a very nice raise\n",
      "Test:  😃\n",
      "Pred:  😃\n",
      "she got me a nice present\n",
      "Test:  😃\n",
      "Pred:  ❤️\n",
      "ha ha ha it was so funny\n",
      "Test:  😃\n",
      "Pred:  😃\n",
      "he is a good friend\n",
      "Test:  😃\n",
      "Pred:  😃\n",
      "I am upset\n",
      "Test:  😞\n",
      "Pred:  ⚾\n",
      "We had such a lovely dinner tonight\n",
      "Test:  😃\n",
      "Pred:  😃\n",
      "where is the food\n",
      "Test:  🍴\n",
      "Pred:  🍴\n",
      "Stop making this joke ha ha ha\n",
      "Test:  😃\n",
      "Pred:  😃\n",
      "where is the ball\n",
      "Test:  ⚾\n",
      "Pred:  ⚾\n",
      "work is hard\n",
      "Test:  😞\n",
      "Pred:  😃\n",
      "This girl is messing with me\n",
      "Test:  😞\n",
      "Pred:  😞\n",
      "are you serious\n",
      "Test:  😞\n",
      "Pred:  😞\n",
      "Let us go play baseball\n",
      "Test:  ⚾\n",
      "Pred:  ⚾\n",
      "This stupid grader is not working \n",
      "Test:  😞\n",
      "Pred:  😞\n",
      "work is horrible\n",
      "Test:  😞\n",
      "Pred:  😞\n",
      "Congratulation for having a baby\n",
      "Test:  😃\n",
      "Pred:  😃\n",
      "stop pissing me off\n",
      "Test:  😞\n",
      "Pred:  😞\n",
      "any suggestions for dinner\n",
      "Test:  🍴\n",
      "Pred:  🍴\n",
      "I love taking breaks\n",
      "Test:  ❤️\n",
      "Pred:  ❤️\n",
      "you brighten my day\n",
      "Test:  😃\n",
      "Pred:  😃\n",
      "I boiled rice\n",
      "Test:  🍴\n",
      "Pred:  🍴\n",
      "she is a bully\n",
      "Test:  😞\n",
      "Pred:  😃\n",
      "Why are you feeling bad\n",
      "Test:  😞\n",
      "Pred:  😞\n",
      "I am upset\n",
      "Test:  😞\n",
      "Pred:  ⚾\n",
      "give me the ball\n",
      "Test:  ⚾\n",
      "Pred:  😞\n",
      "My grandmother is the love of my life\n",
      "Test:  ❤️\n",
      "Pred:  😃\n",
      "enjoy your game\n",
      "Test:  ⚾\n",
      "Pred:  ⚾\n",
      "valentine day is near\n",
      "Test:  😃\n",
      "Pred:  😃\n",
      "I miss you so much\n",
      "Test:  ❤️\n",
      "Pred:  ❤️\n",
      "throw the ball\n",
      "Test:  ⚾\n",
      "Pred:  ⚾\n",
      "My life is so boring\n",
      "Test:  😞\n",
      "Pred:  😞\n",
      "she said yes\n",
      "Test:  😃\n",
      "Pred:  😃\n",
      "will you be my valentine\n",
      "Test:  😃\n",
      "Pred:  ❤️\n",
      "he can pitch really well\n",
      "Test:  ⚾\n",
      "Pred:  ⚾\n",
      "dance with me\n",
      "Test:  😃\n",
      "Pred:  ❤️\n",
      "I am hungry\n",
      "Test:  🍴\n",
      "Pred:  🍴\n",
      "See you at the restaurant\n",
      "Test:  🍴\n",
      "Pred:  😃\n",
      "I like to laugh\n",
      "Test:  😃\n",
      "Pred:  😃\n",
      "I will  run\n",
      "Test:  ⚾\n",
      "Pred:  ⚾\n",
      "I like your jacket \n",
      "Test:  ❤️\n",
      "Pred:  ❤️\n",
      "i miss her\n",
      "Test:  ❤️\n",
      "Pred:  ❤️\n",
      "what is your favorite baseball game\n",
      "Test:  ⚾\n",
      "Pred:  ⚾\n",
      "Good job\n",
      "Test:  😃\n",
      "Pred:  😃\n",
      "I love you to the stars and back\n",
      "Test:  ❤️\n",
      "Pred:  ❤️\n",
      "What you did was awesome\n",
      "Test:  😃\n",
      "Pred:  😃\n",
      "ha ha ha lol\n",
      "Test:  😃\n",
      "Pred:  😃\n",
      "I do not want to joke\n",
      "Test:  😞\n",
      "Pred:  😞\n",
      "go away\n",
      "Test:  😞\n",
      "Pred:  ⚾\n",
      "yesterday we lost again\n",
      "Test:  😞\n",
      "Pred:  ⚾\n",
      "family is all I have\n",
      "Test:  ❤️\n",
      "Pred:  😞\n",
      "you are failing this exercise\n",
      "Test:  😞\n",
      "Pred:  😞\n",
      "Good joke\n",
      "Test:  😃\n",
      "Pred:  😃\n",
      "You deserve this nice prize\n",
      "Test:  😃\n",
      "Pred:  😃\n",
      "I did not have breakfast \n",
      "Test:  🍴\n",
      "Pred:  😞\n"
     ]
    }
   ],
   "source": [
    "for ix, sen in enumerate(X_test):\n",
    "    print(sen)\n",
    "    test_val = str(Y_test[ix])\n",
    "    pred_val = str(Y_pred[ix]) \n",
    "    test_emoji = emoji.emojize(emoji_dictionary[test_val])\n",
    "    pred_emoji = emoji.emojize(emoji_dictionary[pred_val])\n",
    "    print(\"Test: \", test_emoji)\n",
    "    print(\"Pred: \", pred_emoji)"
   ]
  },
  {
   "cell_type": "code",
   "execution_count": null,
   "metadata": {},
   "outputs": [],
   "source": []
  },
  {
   "cell_type": "code",
   "execution_count": null,
   "metadata": {},
   "outputs": [],
   "source": []
  },
  {
   "cell_type": "code",
   "execution_count": null,
   "metadata": {},
   "outputs": [],
   "source": []
  }
 ],
 "metadata": {
  "kernelspec": {
   "display_name": "Python 3.6 (tensorflow)",
   "language": "python",
   "name": "tensorflow"
  },
  "language_info": {
   "codemirror_mode": {
    "name": "ipython",
    "version": 3
   },
   "file_extension": ".py",
   "mimetype": "text/x-python",
   "name": "python",
   "nbconvert_exporter": "python",
   "pygments_lexer": "ipython3",
   "version": "3.6.10"
  }
 },
 "nbformat": 4,
 "nbformat_minor": 4
}
